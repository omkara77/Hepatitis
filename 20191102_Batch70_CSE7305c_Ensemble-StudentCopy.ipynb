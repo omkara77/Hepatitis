{
 "cells": [
  {
   "cell_type": "markdown",
   "metadata": {},
   "source": [
    "# <center> Hepatitis Survival using Ensembles </center>\n",
    "\n",
    "___\n",
    "\n",
    "Ensemble refers to aggregation of predictions of different models based on weighted average or majority vote. Models can be different in their selection of sample set, feature set, hyperparameter and/or model family.\n",
    "It is used with tree models because decision trees are high variance models i.e. small change in data impacts the decision boundary considerably. Ensembles can be used with any classifier.\n",
    "\n",
    "<img src=\"image/EnsembleImage.jpeg\" alt=\"https://becominghuman.ai/ensemble-learning-bagging-and-boosting-d20f38be9b1e\" width=\"500\" height=\"400\">\n",
    "\n",
    "\n",
    "Ensembles can be in form of Bagging or Boosting.\n",
    "\n",
    "<img src=\"img/bagging_boosting.png\" alt=\"https://www.kdnuggets.com/\" width=\"700\" height=\"700\">\n",
    "\n",
    "___\n",
    "\n",
    "## Hepatitis Data\n",
    "\n",
    "We will use [Hepatitis Dataset](https://archive.ics.uci.edu/ml/datasets/hepatitis). The data set is obtained from UCI machine learning repository. There are 155 observations and 19 features/ attributes where 13 attributes are binary while 6 attributes are discrete valued. The observations are catogarized in two classes classes die and live. \n",
    "\n",
    "| Feature | Description |\n",
    "| --- | --- |\n",
    "| target | DIE (1) , LIVE (2) |\n",
    "| AGE | 10, 20, 30, 40, 50, 60, 70, 80 |\n",
    "| SEX | male, female |\n",
    "| STEROID | no, yes |\n",
    "| ANTIVIRALS | no, yes |\n",
    "| FATIGUE | no, yes |\n",
    "| MALAISE | no, yes |\n",
    "| ANOREXIA | no, yes |\n",
    "| LIVER BIG | no, yes |\n",
    "| LIVER FIRM | no, yes |\n",
    "| SPLEEN PALPABLE | no, yes |\n",
    "| SPIDERS | no, yes |\n",
    "| ASCITES | no, yes |\n",
    "| VARICES | no, yes |\n",
    "| BILIRUBIN | 0.39, 0.80, 1.20, 2.00, 3.00, 4.00 |\n",
    "| ALK PHOSPHATE | 33, 80, 120, 160, 200, 250 |\n",
    "| SGOT | 13, 100, 200, 300, 400, 500, |\n",
    "| ALBUMIN | 2.1, 3.0, 3.8, 4.5, 5.0, 6.0 |\n",
    "| PROTIME | 10, 20, 30, 40, 50, 60, 70, 80, 90 |\n",
    "| HISTOLOGY | no, yes |\n",
    "\n",
    "**The goal is to classify whether the hepatitis patient will survive or not.**\n",
    "___"
   ]
  },
  {
   "cell_type": "markdown",
   "metadata": {},
   "source": [
    "## Load the libraries"
   ]
  },
  {
   "cell_type": "code",
   "execution_count": 1,
   "metadata": {
    "ExecuteTime": {
     "end_time": "2019-11-02T05:54:45.247638Z",
     "start_time": "2019-11-02T05:54:43.659453Z"
    },
    "scrolled": false
   },
   "outputs": [],
   "source": [
    "import pandas as pd\n",
    "\n",
    "# skip warnings\n",
    "import warnings\n",
    "warnings.filterwarnings('ignore')\n",
    "warnings.filterwarnings(action = 'ignore', category = DeprecationWarning)\n",
    "warnings.filterwarnings(action = 'ignore', category = FutureWarning)"
   ]
  },
  {
   "cell_type": "markdown",
   "metadata": {},
   "source": [
    "## Load Data"
   ]
  },
  {
   "cell_type": "code",
   "execution_count": 2,
   "metadata": {},
   "outputs": [],
   "source": [
    "hepatitis = pd.read_csv(\"Data/hepatitis.data\")"
   ]
  },
  {
   "cell_type": "code",
   "execution_count": 3,
   "metadata": {
    "ExecuteTime": {
     "end_time": "2019-11-02T05:54:46.401992Z",
     "start_time": "2019-11-02T05:54:46.358023Z"
    }
   },
   "outputs": [
    {
     "data": {
      "text/plain": [
       "(155, 20)"
      ]
     },
     "execution_count": 3,
     "metadata": {},
     "output_type": "execute_result"
    }
   ],
   "source": [
    "colnames = ['target', 'age', 'sex', 'steroid', 'antivirals', 'fatigue', 'malaise', 'anorexia', 'liver big', \n",
    "            'liver firm', 'spleen palpable', 'spiders', 'ascites', 'varices', 'bilirubin', 'alk phosphate', \n",
    "            'sgot', 'albumin', 'protime', 'histology']\n",
    "\n",
    "#### Read file \"hepatitis.data\"  in hepatitis\n",
    "\n",
    "hepatitis = pd.read_csv(\"Data/hepatitis.data\", names = colnames)\n",
    "hepatitis.shape"
   ]
  },
  {
   "cell_type": "markdown",
   "metadata": {},
   "source": [
    "There are a total of 155 customers in the data set and 20 variables. "
   ]
  },
  {
   "cell_type": "markdown",
   "metadata": {},
   "source": [
    "## Exploratory Data Analysis\n",
    "\n",
    "Let us take a look at a portion of the data.\n",
    "\n",
    "We will create a function to set all needed [Options in Python](https://pandas.pydata.org/pandas-docs/stable/user_guide/options.html)"
   ]
  },
  {
   "cell_type": "code",
   "execution_count": 4,
   "metadata": {
    "ExecuteTime": {
     "end_time": "2019-11-02T04:05:11.292795Z",
     "start_time": "2019-11-02T04:05:11.287979Z"
    },
    "scrolled": false
   },
   "outputs": [],
   "source": [
    "def set_pandas_display_options() :\n",
    "\n",
    "    pd.options.display.max_columns = 1000\n",
    "    pd.options.display.max_rows = 1000\n",
    "    pd.options.display.max_colwidth = 199\n",
    "    pd.options.display.precision = 3\n",
    "\n",
    "    \n",
    "    \n",
    "set_pandas_display_options()"
   ]
  },
  {
   "cell_type": "code",
   "execution_count": 5,
   "metadata": {
    "ExecuteTime": {
     "end_time": "2019-11-02T04:05:11.502503Z",
     "start_time": "2019-11-02T04:05:11.473967Z"
    },
    "scrolled": false
   },
   "outputs": [
    {
     "data": {
      "text/html": [
       "<div>\n",
       "<style scoped>\n",
       "    .dataframe tbody tr th:only-of-type {\n",
       "        vertical-align: middle;\n",
       "    }\n",
       "\n",
       "    .dataframe tbody tr th {\n",
       "        vertical-align: top;\n",
       "    }\n",
       "\n",
       "    .dataframe thead th {\n",
       "        text-align: right;\n",
       "    }\n",
       "</style>\n",
       "<table border=\"1\" class=\"dataframe\">\n",
       "  <thead>\n",
       "    <tr style=\"text-align: right;\">\n",
       "      <th></th>\n",
       "      <th>target</th>\n",
       "      <th>age</th>\n",
       "      <th>sex</th>\n",
       "      <th>steroid</th>\n",
       "      <th>antivirals</th>\n",
       "      <th>fatigue</th>\n",
       "      <th>malaise</th>\n",
       "      <th>anorexia</th>\n",
       "      <th>liver big</th>\n",
       "      <th>liver firm</th>\n",
       "      <th>spleen palpable</th>\n",
       "      <th>spiders</th>\n",
       "      <th>ascites</th>\n",
       "      <th>varices</th>\n",
       "      <th>bilirubin</th>\n",
       "      <th>alk phosphate</th>\n",
       "      <th>sgot</th>\n",
       "      <th>albumin</th>\n",
       "      <th>protime</th>\n",
       "      <th>histology</th>\n",
       "    </tr>\n",
       "  </thead>\n",
       "  <tbody>\n",
       "    <tr>\n",
       "      <th>0</th>\n",
       "      <td>2</td>\n",
       "      <td>30</td>\n",
       "      <td>2</td>\n",
       "      <td>1</td>\n",
       "      <td>2</td>\n",
       "      <td>2</td>\n",
       "      <td>2</td>\n",
       "      <td>2</td>\n",
       "      <td>1</td>\n",
       "      <td>2</td>\n",
       "      <td>2</td>\n",
       "      <td>2</td>\n",
       "      <td>2</td>\n",
       "      <td>2</td>\n",
       "      <td>1.00</td>\n",
       "      <td>85</td>\n",
       "      <td>18</td>\n",
       "      <td>4.0</td>\n",
       "      <td>?</td>\n",
       "      <td>1</td>\n",
       "    </tr>\n",
       "    <tr>\n",
       "      <th>1</th>\n",
       "      <td>2</td>\n",
       "      <td>50</td>\n",
       "      <td>1</td>\n",
       "      <td>1</td>\n",
       "      <td>2</td>\n",
       "      <td>1</td>\n",
       "      <td>2</td>\n",
       "      <td>2</td>\n",
       "      <td>1</td>\n",
       "      <td>2</td>\n",
       "      <td>2</td>\n",
       "      <td>2</td>\n",
       "      <td>2</td>\n",
       "      <td>2</td>\n",
       "      <td>0.90</td>\n",
       "      <td>135</td>\n",
       "      <td>42</td>\n",
       "      <td>3.5</td>\n",
       "      <td>?</td>\n",
       "      <td>1</td>\n",
       "    </tr>\n",
       "    <tr>\n",
       "      <th>2</th>\n",
       "      <td>2</td>\n",
       "      <td>78</td>\n",
       "      <td>1</td>\n",
       "      <td>2</td>\n",
       "      <td>2</td>\n",
       "      <td>1</td>\n",
       "      <td>2</td>\n",
       "      <td>2</td>\n",
       "      <td>2</td>\n",
       "      <td>2</td>\n",
       "      <td>2</td>\n",
       "      <td>2</td>\n",
       "      <td>2</td>\n",
       "      <td>2</td>\n",
       "      <td>0.70</td>\n",
       "      <td>96</td>\n",
       "      <td>32</td>\n",
       "      <td>4.0</td>\n",
       "      <td>?</td>\n",
       "      <td>1</td>\n",
       "    </tr>\n",
       "    <tr>\n",
       "      <th>3</th>\n",
       "      <td>2</td>\n",
       "      <td>31</td>\n",
       "      <td>1</td>\n",
       "      <td>?</td>\n",
       "      <td>1</td>\n",
       "      <td>2</td>\n",
       "      <td>2</td>\n",
       "      <td>2</td>\n",
       "      <td>2</td>\n",
       "      <td>2</td>\n",
       "      <td>2</td>\n",
       "      <td>2</td>\n",
       "      <td>2</td>\n",
       "      <td>2</td>\n",
       "      <td>0.70</td>\n",
       "      <td>46</td>\n",
       "      <td>52</td>\n",
       "      <td>4.0</td>\n",
       "      <td>80</td>\n",
       "      <td>1</td>\n",
       "    </tr>\n",
       "    <tr>\n",
       "      <th>4</th>\n",
       "      <td>2</td>\n",
       "      <td>34</td>\n",
       "      <td>1</td>\n",
       "      <td>2</td>\n",
       "      <td>2</td>\n",
       "      <td>2</td>\n",
       "      <td>2</td>\n",
       "      <td>2</td>\n",
       "      <td>2</td>\n",
       "      <td>2</td>\n",
       "      <td>2</td>\n",
       "      <td>2</td>\n",
       "      <td>2</td>\n",
       "      <td>2</td>\n",
       "      <td>1.00</td>\n",
       "      <td>?</td>\n",
       "      <td>200</td>\n",
       "      <td>4.0</td>\n",
       "      <td>?</td>\n",
       "      <td>1</td>\n",
       "    </tr>\n",
       "  </tbody>\n",
       "</table>\n",
       "</div>"
      ],
      "text/plain": [
       "   target  age  sex steroid  antivirals fatigue malaise anorexia liver big  \\\n",
       "0       2   30    2       1           2       2       2        2         1   \n",
       "1       2   50    1       1           2       1       2        2         1   \n",
       "2       2   78    1       2           2       1       2        2         2   \n",
       "3       2   31    1       ?           1       2       2        2         2   \n",
       "4       2   34    1       2           2       2       2        2         2   \n",
       "\n",
       "  liver firm spleen palpable spiders ascites varices bilirubin alk phosphate  \\\n",
       "0          2               2       2       2       2      1.00            85   \n",
       "1          2               2       2       2       2      0.90           135   \n",
       "2          2               2       2       2       2      0.70            96   \n",
       "3          2               2       2       2       2      0.70            46   \n",
       "4          2               2       2       2       2      1.00             ?   \n",
       "\n",
       "  sgot albumin protime  histology  \n",
       "0   18     4.0       ?          1  \n",
       "1   42     3.5       ?          1  \n",
       "2   32     4.0       ?          1  \n",
       "3   52     4.0      80          1  \n",
       "4  200     4.0       ?          1  "
      ]
     },
     "execution_count": 5,
     "metadata": {},
     "output_type": "execute_result"
    }
   ],
   "source": [
    "hepatitis.head()"
   ]
  },
  {
   "cell_type": "markdown",
   "metadata": {},
   "source": [
    "Let us check if all columns are in appropriate data format."
   ]
  },
  {
   "cell_type": "code",
   "execution_count": 6,
   "metadata": {
    "ExecuteTime": {
     "end_time": "2019-11-02T04:05:11.828284Z",
     "start_time": "2019-11-02T04:05:11.820186Z"
    },
    "scrolled": false
   },
   "outputs": [
    {
     "data": {
      "text/plain": [
       "target              int64\n",
       "age                 int64\n",
       "sex                 int64\n",
       "steroid            object\n",
       "antivirals          int64\n",
       "fatigue            object\n",
       "malaise            object\n",
       "anorexia           object\n",
       "liver big          object\n",
       "liver firm         object\n",
       "spleen palpable    object\n",
       "spiders            object\n",
       "ascites            object\n",
       "varices            object\n",
       "bilirubin          object\n",
       "alk phosphate      object\n",
       "sgot               object\n",
       "albumin            object\n",
       "protime            object\n",
       "histology           int64\n",
       "dtype: object"
      ]
     },
     "execution_count": 6,
     "metadata": {},
     "output_type": "execute_result"
    }
   ],
   "source": [
    "hepatitis.dtypes"
   ]
  },
  {
   "cell_type": "code",
   "execution_count": 7,
   "metadata": {
    "ExecuteTime": {
     "end_time": "2019-11-02T04:06:28.849362Z",
     "start_time": "2019-11-02T04:06:28.833397Z"
    },
    "scrolled": false
   },
   "outputs": [
    {
     "data": {
      "text/plain": [
       "target               int64\n",
       "age                  int64\n",
       "sex                  int64\n",
       "steroid            float64\n",
       "antivirals           int64\n",
       "fatigue            float64\n",
       "malaise            float64\n",
       "anorexia           float64\n",
       "liver big          float64\n",
       "liver firm         float64\n",
       "spleen palpable    float64\n",
       "spiders            float64\n",
       "ascites            float64\n",
       "varices            float64\n",
       "bilirubin          float64\n",
       "alk phosphate      float64\n",
       "sgot               float64\n",
       "albumin            float64\n",
       "protime            float64\n",
       "histology            int64\n",
       "dtype: object"
      ]
     },
     "execution_count": 7,
     "metadata": {},
     "output_type": "execute_result"
    }
   ],
   "source": [
    "####  Read data with na_values=\"?\"\n",
    "hepatitis = pd.read_csv(\"Data/hepatitis.data\", na_values = \"?\", names = colnames)\n",
    "\n",
    "hepatitis.dtypes"
   ]
  },
  {
   "cell_type": "markdown",
   "metadata": {},
   "source": [
    "Now the data types are corrected. So, ? was the only invalid value.\n",
    "\n",
    "Let us check the distribution of our target variable."
   ]
  },
  {
   "cell_type": "code",
   "execution_count": 8,
   "metadata": {
    "ExecuteTime": {
     "end_time": "2019-11-02T06:00:26.201790Z",
     "start_time": "2019-11-02T06:00:26.165463Z"
    },
    "scrolled": false
   },
   "outputs": [
    {
     "data": {
      "text/plain": [
       "2    123\n",
       "1     32\n",
       "Name: target, dtype: int64"
      ]
     },
     "execution_count": 8,
     "metadata": {},
     "output_type": "execute_result"
    }
   ],
   "source": [
    "#### Calculate value counts of target  \n",
    "\n",
    "hepatitis['target'].value_counts()"
   ]
  },
  {
   "cell_type": "markdown",
   "metadata": {},
   "source": [
    "The data is imbalanced with 80% data for LIVE vs 20% data for DIE.\n",
    "\n",
    "Let us seperate our numerical and categorical attributes."
   ]
  },
  {
   "cell_type": "code",
   "execution_count": 9,
   "metadata": {
    "ExecuteTime": {
     "end_time": "2019-11-02T04:08:07.788146Z",
     "start_time": "2019-11-02T04:08:07.776063Z"
    },
    "scrolled": false
   },
   "outputs": [
    {
     "data": {
      "text/plain": [
       "Index(['age', 'bilirubin', 'alk phosphate', 'sgot', 'albumin', 'protime'], dtype='object')"
      ]
     },
     "execution_count": 9,
     "metadata": {},
     "output_type": "execute_result"
    }
   ],
   "source": [
    "cat_cols = ['sex', 'steroid', 'antivirals', 'fatigue', 'malaise', 'anorexia', 'liver big', \n",
    "            'liver firm', 'spleen palpable', 'spiders', 'ascites', 'varices', 'histology']\n",
    "\n",
    "# create a list for all numerical column names\n",
    "num_cols = hepatitis.columns[~hepatitis.columns.isin(cat_cols)]\n",
    "\n",
    "# remove target column\n",
    "num_cols = num_cols.delete(0)\n",
    "\n",
    "num_cols"
   ]
  },
  {
   "cell_type": "markdown",
   "metadata": {},
   "source": [
    "We will convert all categorical variable to category type."
   ]
  },
  {
   "cell_type": "markdown",
   "metadata": {},
   "source": [
    "#### Type Conversion"
   ]
  },
  {
   "cell_type": "code",
   "execution_count": 10,
   "metadata": {
    "ExecuteTime": {
     "end_time": "2019-11-02T04:21:45.778531Z",
     "start_time": "2019-11-02T04:21:45.761518Z"
    },
    "scrolled": false
   },
   "outputs": [],
   "source": [
    "### Convert type of categorical columns to catego\n",
    "hepatitis[cat_cols] = hepatitis[cat_cols].apply(lambda x : x.astype('category'))\n",
    "\n",
    "\n",
    "#A lambda function is a small anonymous function.\n",
    "#A lambda function can take any number of arguments, but can only have one expression."
   ]
  },
  {
   "cell_type": "markdown",
   "metadata": {},
   "source": [
    "We will check there are no invalid values in any of the categorical variables."
   ]
  },
  {
   "cell_type": "code",
   "execution_count": 11,
   "metadata": {
    "ExecuteTime": {
     "end_time": "2019-11-02T04:22:17.646152Z",
     "start_time": "2019-11-02T04:22:17.599898Z"
    },
    "scrolled": true
   },
   "outputs": [
    {
     "name": "stdout",
     "output_type": "stream",
     "text": [
      "sex ----->> [2, 1]\n",
      "Categories (2, int64): [2, 1] \n",
      "\n",
      "steroid ----->> [1.0, 2.0, NaN]\n",
      "Categories (2, float64): [1.0, 2.0] \n",
      "\n",
      "antivirals ----->> [2, 1]\n",
      "Categories (2, int64): [2, 1] \n",
      "\n",
      "fatigue ----->> [2.0, 1.0, NaN]\n",
      "Categories (2, float64): [2.0, 1.0] \n",
      "\n",
      "malaise ----->> [2.0, 1.0, NaN]\n",
      "Categories (2, float64): [2.0, 1.0] \n",
      "\n",
      "anorexia ----->> [2.0, 1.0, NaN]\n",
      "Categories (2, float64): [2.0, 1.0] \n",
      "\n",
      "liver big ----->> [1.0, 2.0, NaN]\n",
      "Categories (2, float64): [1.0, 2.0] \n",
      "\n",
      "liver firm ----->> [2.0, 1.0, NaN]\n",
      "Categories (2, float64): [2.0, 1.0] \n",
      "\n",
      "spleen palpable ----->> [2.0, 1.0, NaN]\n",
      "Categories (2, float64): [2.0, 1.0] \n",
      "\n",
      "spiders ----->> [2.0, 1.0, NaN]\n",
      "Categories (2, float64): [2.0, 1.0] \n",
      "\n",
      "ascites ----->> [2.0, 1.0, NaN]\n",
      "Categories (2, float64): [2.0, 1.0] \n",
      "\n",
      "varices ----->> [2.0, NaN, 1.0]\n",
      "Categories (2, float64): [2.0, 1.0] \n",
      "\n",
      "histology ----->> [1, 2]\n",
      "Categories (2, int64): [1, 2] \n",
      "\n"
     ]
    }
   ],
   "source": [
    "for x in cat_cols :\n",
    "    print(x, '----->>', hepatitis[x].unique(), '\\n')"
   ]
  },
  {
   "cell_type": "code",
   "execution_count": 12,
   "metadata": {},
   "outputs": [
    {
     "data": {
      "text/plain": [
       "target              0\n",
       "age                 0\n",
       "sex                 0\n",
       "steroid             1\n",
       "antivirals          0\n",
       "fatigue             1\n",
       "malaise             1\n",
       "anorexia            1\n",
       "liver big          10\n",
       "liver firm         11\n",
       "spleen palpable     5\n",
       "spiders             5\n",
       "ascites             5\n",
       "varices             5\n",
       "bilirubin           6\n",
       "alk phosphate      29\n",
       "sgot                4\n",
       "albumin            16\n",
       "protime            67\n",
       "histology           0\n",
       "dtype: int64"
      ]
     },
     "execution_count": 12,
     "metadata": {},
     "output_type": "execute_result"
    }
   ],
   "source": [
    "hepatitis.isnull().sum()"
   ]
  },
  {
   "cell_type": "markdown",
   "metadata": {},
   "source": [
    "\n",
    "Let us check numerical data as well."
   ]
  },
  {
   "cell_type": "code",
   "execution_count": 13,
   "metadata": {
    "ExecuteTime": {
     "end_time": "2019-11-02T04:25:17.761154Z",
     "start_time": "2019-11-02T04:25:17.714510Z"
    },
    "scrolled": false
   },
   "outputs": [
    {
     "data": {
      "text/html": [
       "<div>\n",
       "<style scoped>\n",
       "    .dataframe tbody tr th:only-of-type {\n",
       "        vertical-align: middle;\n",
       "    }\n",
       "\n",
       "    .dataframe tbody tr th {\n",
       "        vertical-align: top;\n",
       "    }\n",
       "\n",
       "    .dataframe thead th {\n",
       "        text-align: right;\n",
       "    }\n",
       "</style>\n",
       "<table border=\"1\" class=\"dataframe\">\n",
       "  <thead>\n",
       "    <tr style=\"text-align: right;\">\n",
       "      <th></th>\n",
       "      <th>age</th>\n",
       "      <th>bilirubin</th>\n",
       "      <th>alk phosphate</th>\n",
       "      <th>sgot</th>\n",
       "      <th>albumin</th>\n",
       "      <th>protime</th>\n",
       "    </tr>\n",
       "  </thead>\n",
       "  <tbody>\n",
       "    <tr>\n",
       "      <th>count</th>\n",
       "      <td>155.000</td>\n",
       "      <td>149.000</td>\n",
       "      <td>126.000</td>\n",
       "      <td>151.000</td>\n",
       "      <td>139.000</td>\n",
       "      <td>88.000</td>\n",
       "    </tr>\n",
       "    <tr>\n",
       "      <th>mean</th>\n",
       "      <td>41.200</td>\n",
       "      <td>1.428</td>\n",
       "      <td>105.325</td>\n",
       "      <td>85.894</td>\n",
       "      <td>3.817</td>\n",
       "      <td>61.852</td>\n",
       "    </tr>\n",
       "    <tr>\n",
       "      <th>std</th>\n",
       "      <td>12.566</td>\n",
       "      <td>1.212</td>\n",
       "      <td>51.508</td>\n",
       "      <td>89.651</td>\n",
       "      <td>0.652</td>\n",
       "      <td>22.875</td>\n",
       "    </tr>\n",
       "    <tr>\n",
       "      <th>min</th>\n",
       "      <td>7.000</td>\n",
       "      <td>0.300</td>\n",
       "      <td>26.000</td>\n",
       "      <td>14.000</td>\n",
       "      <td>2.100</td>\n",
       "      <td>0.000</td>\n",
       "    </tr>\n",
       "    <tr>\n",
       "      <th>25%</th>\n",
       "      <td>32.000</td>\n",
       "      <td>0.700</td>\n",
       "      <td>74.250</td>\n",
       "      <td>31.500</td>\n",
       "      <td>3.400</td>\n",
       "      <td>46.000</td>\n",
       "    </tr>\n",
       "    <tr>\n",
       "      <th>50%</th>\n",
       "      <td>39.000</td>\n",
       "      <td>1.000</td>\n",
       "      <td>85.000</td>\n",
       "      <td>58.000</td>\n",
       "      <td>4.000</td>\n",
       "      <td>61.000</td>\n",
       "    </tr>\n",
       "    <tr>\n",
       "      <th>75%</th>\n",
       "      <td>50.000</td>\n",
       "      <td>1.500</td>\n",
       "      <td>132.250</td>\n",
       "      <td>100.500</td>\n",
       "      <td>4.200</td>\n",
       "      <td>76.250</td>\n",
       "    </tr>\n",
       "    <tr>\n",
       "      <th>max</th>\n",
       "      <td>78.000</td>\n",
       "      <td>8.000</td>\n",
       "      <td>295.000</td>\n",
       "      <td>648.000</td>\n",
       "      <td>6.400</td>\n",
       "      <td>100.000</td>\n",
       "    </tr>\n",
       "  </tbody>\n",
       "</table>\n",
       "</div>"
      ],
      "text/plain": [
       "           age  bilirubin  alk phosphate     sgot  albumin  protime\n",
       "count  155.000    149.000        126.000  151.000  139.000   88.000\n",
       "mean    41.200      1.428        105.325   85.894    3.817   61.852\n",
       "std     12.566      1.212         51.508   89.651    0.652   22.875\n",
       "min      7.000      0.300         26.000   14.000    2.100    0.000\n",
       "25%     32.000      0.700         74.250   31.500    3.400   46.000\n",
       "50%     39.000      1.000         85.000   58.000    4.000   61.000\n",
       "75%     50.000      1.500        132.250  100.500    4.200   76.250\n",
       "max     78.000      8.000        295.000  648.000    6.400  100.000"
      ]
     },
     "execution_count": 13,
     "metadata": {},
     "output_type": "execute_result"
    }
   ],
   "source": [
    "hepatitis[num_cols].describe()"
   ]
  },
  {
   "cell_type": "markdown",
   "metadata": {},
   "source": [
    "> Does data looks clean?\n",
    "\n",
    "Let us check for percentage of NA values for each feature."
   ]
  },
  {
   "cell_type": "code",
   "execution_count": 14,
   "metadata": {
    "ExecuteTime": {
     "end_time": "2019-11-02T06:06:18.387908Z",
     "start_time": "2019-11-02T06:06:18.383199Z"
    },
    "scrolled": false
   },
   "outputs": [],
   "source": [
    "#### Check null values in data \n",
    "\n"
   ]
  },
  {
   "cell_type": "markdown",
   "metadata": {},
   "source": [
    "<div class=\"alert alert-block alert-info\"><b> \n",
    "    \n",
    "- Observations?\n",
    "\n",
    "</b></div>"
   ]
  },
  {
   "cell_type": "code",
   "execution_count": 15,
   "metadata": {
    "ExecuteTime": {
     "end_time": "2019-11-02T04:26:45.168676Z",
     "start_time": "2019-11-02T04:26:44.878985Z"
    },
    "scrolled": false
   },
   "outputs": [
    {
     "data": {
      "text/plain": [
       "<matplotlib.axes._subplots.AxesSubplot at 0x131a05c1cf8>"
      ]
     },
     "execution_count": 15,
     "metadata": {},
     "output_type": "execute_result"
    }
   ],
   "source": [
    "#### Display distribution of variable protime\n",
    "\n",
    "import matplotlib.pyplot as plt\n",
    "import seaborn as sns\n",
    "\n",
    "hepatitis.protime.hist(bins = 50)"
   ]
  },
  {
   "cell_type": "markdown",
   "metadata": {},
   "source": [
    "The range of the variable is quite wide compared to other features and values are very spread out so, which imputataion technique to use to impute it?.\n",
    "\n",
    "# Model Building\n",
    "\n",
    "___\n",
    "\n",
    "We will seperate our independent variables and target variable."
   ]
  },
  {
   "cell_type": "code",
   "execution_count": 16,
   "metadata": {
    "ExecuteTime": {
     "end_time": "2019-11-02T04:27:24.653715Z",
     "start_time": "2019-11-02T04:27:24.646723Z"
    },
    "scrolled": false
   },
   "outputs": [],
   "source": [
    "# independent variables\n",
    "X = hepatitis.drop('target', axis = 1)\n",
    "\n",
    "# dependent variable\n",
    "y = hepatitis[\"target\"]"
   ]
  },
  {
   "cell_type": "markdown",
   "metadata": {},
   "source": [
    "\n",
    "### Function to prepare data\n",
    "\n",
    "We will write a function to prepare data for following functions.\n",
    "\n",
    "- Train and Test Split\n",
    "- Fit the Imputer on Train Data"
   ]
  },
  {
   "cell_type": "markdown",
   "metadata": {},
   "source": [
    "#### KNN Imputation"
   ]
  },
  {
   "cell_type": "code",
   "execution_count": 17,
   "metadata": {
    "ExecuteTime": {
     "end_time": "2019-11-02T04:53:17.370165Z",
     "start_time": "2019-11-02T04:53:17.364882Z"
    },
    "scrolled": false
   },
   "outputs": [],
   "source": [
    "from sklearn.experimental import enable_iterative_imputer\n",
    "from sklearn.impute import IterativeImputer\n",
    "\n",
    "from sklearn.neighbors import KNeighborsRegressor, KNeighborsClassifier\n",
    "\n",
    "num_imputer = IterativeImputer(estimator = KNeighborsRegressor(n_neighbors = 5))\n",
    "cat_imputer = IterativeImputer(estimator = KNeighborsClassifier(n_neighbors = 5))"
   ]
  },
  {
   "cell_type": "code",
   "execution_count": 18,
   "metadata": {
    "ExecuteTime": {
     "end_time": "2019-11-02T04:54:29.598142Z",
     "start_time": "2019-11-02T04:54:29.590953Z"
    },
    "scrolled": false
   },
   "outputs": [],
   "source": [
    "from sklearn.model_selection import train_test_split\n",
    "\n",
    "def prepare_data(X, y, split_size = 0.3) :\n",
    "    \n",
    "    \n",
    "    ####Split data \n",
    "    \n",
    "    X_train, X_test, y_train, y_test = train_test_split(X, y, \n",
    "                                                        test_size = split_size) \n",
    "\n",
    "    ##Fit numeric imputer\n",
    "    num_imputer.fit(X_train[num_cols])\n",
    "    \n",
    "    \n",
    "    ##Fit categorical imputer\n",
    "    cat_imputer.fit(X_train[cat_cols])\n",
    "    \n",
    "\n",
    "    print(X_train.shape)\n",
    "    print(X_test.shape)\n",
    "    \n",
    "    return X_train, X_test, y_train, y_test"
   ]
  },
  {
   "cell_type": "code",
   "execution_count": 19,
   "metadata": {
    "ExecuteTime": {
     "end_time": "2019-11-02T04:56:02.520624Z",
     "start_time": "2019-11-02T04:56:02.353055Z"
    },
    "scrolled": false
   },
   "outputs": [
    {
     "name": "stdout",
     "output_type": "stream",
     "text": [
      "(124, 19)\n",
      "(31, 19)\n"
     ]
    }
   ],
   "source": [
    "# call function to prepare data\n",
    "X_train, X_test, y_train, y_test = prepare_data(X, y, 0.2)"
   ]
  },
  {
   "cell_type": "markdown",
   "metadata": {},
   "source": [
    "### Function to pre-process data\n",
    "\n",
    "We will write a function to pre-process data for following functions. This function will be called to transform both train and test datasets.\n",
    "\n",
    "- Impute the numerical features\n",
    "- Impute the categorical features"
   ]
  },
  {
   "cell_type": "code",
   "execution_count": 20,
   "metadata": {
    "ExecuteTime": {
     "end_time": "2019-11-02T04:56:30.519514Z",
     "start_time": "2019-11-02T04:56:30.513471Z"
    },
    "scrolled": false
   },
   "outputs": [],
   "source": [
    "def preprocess_data(data) :\n",
    "    \n",
    "    # impute numerical features (apply .transform() )\n",
    "    data[num_cols] = num_imputer.transform(data[num_cols])\n",
    "    \n",
    "    # impute categorical features(apply .transform())\n",
    "    data[cat_cols] = cat_imputer.transform(data[cat_cols]) \n",
    "\n",
    "    return data"
   ]
  },
  {
   "cell_type": "markdown",
   "metadata": {},
   "source": [
    "Call the pre-process function for both train and test data."
   ]
  },
  {
   "cell_type": "code",
   "execution_count": 21,
   "metadata": {
    "ExecuteTime": {
     "end_time": "2019-11-02T04:56:57.176063Z",
     "start_time": "2019-11-02T04:56:54.975072Z"
    },
    "scrolled": false
   },
   "outputs": [],
   "source": [
    "X_train = preprocess_data(X_train)\n",
    "X_test = preprocess_data(X_test)"
   ]
  },
  {
   "cell_type": "markdown",
   "metadata": {},
   "source": [
    "### Function for Model Fit & Predict\n",
    "\n",
    "We will write a function for following functions. \n",
    "\n",
    "- Fit the model on train data\n",
    "- Perform cross-validation when needed\n",
    "- Predict on train and test data"
   ]
  },
  {
   "cell_type": "code",
   "execution_count": 27,
   "metadata": {
    "ExecuteTime": {
     "end_time": "2019-11-02T04:57:28.301388Z",
     "start_time": "2019-11-02T04:57:28.293402Z"
    },
    "scrolled": false
   },
   "outputs": [],
   "source": [
    "from sklearn.model_selection import GridSearchCV\n",
    "\n",
    "def model_building(X, y, test, model, params = None, k = 1) :\n",
    "    \n",
    "    if params == None :\n",
    "        \n",
    "        #### Fit Model for X and y\n",
    "    \n",
    "        model.fit(X, y)\n",
    "        \n",
    "        # return fitted model & train-test predictions\n",
    "        return (model, model.predict(X), model.predict(test))\n",
    "    \n",
    "    else :\n",
    "        model_cv = GridSearchCV(model, param_grid = params, cv = k)\n",
    "        \n",
    "        #### Fit Model for X and y\n",
    "        model_cv.fit(X, y)\n",
    "        \n",
    "        \n",
    "        #### Get best model using .best_estimator_\n",
    "        model = model_cv.best_estimator_\n",
    "        \n",
    "        # return and extra object for all cross validation operations\n",
    "        return (model_cv, model, model.predict(X), model.predict(test))"
   ]
  },
  {
   "cell_type": "markdown",
   "metadata": {},
   "source": [
    "### Function to Evaluate Model"
   ]
  },
  {
   "cell_type": "code",
   "execution_count": 28,
   "metadata": {
    "ExecuteTime": {
     "end_time": "2019-11-02T04:57:40.751878Z",
     "start_time": "2019-11-02T04:57:40.745392Z"
    }
   },
   "outputs": [],
   "source": [
    "from sklearn.metrics import confusion_matrix \n",
    "from sklearn.metrics import accuracy_score \n",
    "from sklearn.metrics import classification_report \n",
    "\n",
    "\n",
    "\n",
    "def model_evaluation(y_train, pred_train, y_test, pred_test) :\n",
    "    \n",
    "    print('''\n",
    "            =========================================\n",
    "               CLASSIFICATION REPORT FOR TRAIN DATA\n",
    "            =========================================''')\n",
    "    \n",
    "    #### print Classification report\n",
    "    \n",
    "    print(classification_report(y_train, pred_train))\n",
    "    \n",
    "    print('''\n",
    "            =========================================\n",
    "               CLASSIFICATION REPORT FOR TEST DATA\n",
    "            =========================================''')\n",
    "    \n",
    "    #### print Classification report\n",
    "    print(classification_report(y_test,pred_test))"
   ]
  },
  {
   "cell_type": "markdown",
   "metadata": {},
   "source": [
    "## Build Ensemble Models\n",
    "\n",
    "___\n",
    "\n",
    "\n",
    "We will build all 4 ensembles model.\n",
    "\n",
    "- [BaggingClassifier](https://scikit-learn.org/stable/modules/generated/sklearn.ensemble.BaggingClassifier.html)\n",
    "- [AdaBoostClassifier](https://scikit-learn.org/stable/modules/generated/sklearn.ensemble.AdaBoostClassifier.html)\n",
    "- [RandomForestClassifier](https://scikit-learn.org/stable/modules/generated/sklearn.ensemble.RandomForestClassifier.html)\n",
    "- [GradientBoostingClassifier](https://scikit-learn.org/stable/modules/generated/sklearn.ensemble.GradientBoostingClassifier.html)\n",
    "- [XGBClassifier](https://xgboost.readthedocs.io/en/latest/python/python_api.html)"
   ]
  },
  {
   "cell_type": "markdown",
   "metadata": {},
   "source": [
    "**Unique features of XGBoost**\n",
    "\n",
    "**Regularization:** XGBoost has an option to penalize complex models through both L1 and L2 regularization. Regularization helps in preventing overfitting\n",
    "\n",
    "**Handling sparse data:** Missing values or data processing steps like one-hot encoding make data sparse. XGBoost incorporates a sparsity-aware split finding algorithm to handle different types of sparsity patterns in the data\n",
    "\n"
   ]
  },
  {
   "cell_type": "code",
   "execution_count": 24,
   "metadata": {
    "ExecuteTime": {
     "end_time": "2019-11-02T04:58:52.041514Z",
     "start_time": "2019-11-02T04:58:52.038207Z"
    }
   },
   "outputs": [
    {
     "name": "stdout",
     "output_type": "stream",
     "text": [
      "Requirement already satisfied: xgboost in c:\\users\\omkara\\anaconda3\\lib\\site-packages (0.90)\n",
      "Requirement already satisfied: scipy in c:\\users\\omkara\\anaconda3\\lib\\site-packages (from xgboost) (1.2.1)\n",
      "Requirement already satisfied: numpy in c:\\users\\omkara\\anaconda3\\lib\\site-packages (from xgboost) (1.16.4)\n"
     ]
    }
   ],
   "source": [
    "!pip install xgboost"
   ]
  },
  {
   "cell_type": "code",
   "execution_count": 29,
   "metadata": {
    "ExecuteTime": {
     "end_time": "2019-11-02T05:03:49.176297Z",
     "start_time": "2019-11-02T05:03:48.913147Z"
    },
    "scrolled": false
   },
   "outputs": [
    {
     "name": "stdout",
     "output_type": "stream",
     "text": [
      "===================================================================\n",
      "\t\t\t BaggingClassifier \n",
      "===================================================================\n",
      "\n",
      "\n",
      "            =========================================\n",
      "               CLASSIFICATION REPORT FOR TRAIN DATA\n",
      "            =========================================\n",
      "              precision    recall  f1-score   support\n",
      "\n",
      "           1       0.97      1.00      0.98        31\n",
      "           2       1.00      0.99      0.99        93\n",
      "\n",
      "    accuracy                           0.99       124\n",
      "   macro avg       0.98      0.99      0.99       124\n",
      "weighted avg       0.99      0.99      0.99       124\n",
      "\n",
      "\n",
      "            =========================================\n",
      "               CLASSIFICATION REPORT FOR TEST DATA\n",
      "            =========================================\n",
      "              precision    recall  f1-score   support\n",
      "\n",
      "           1       0.11      1.00      0.20         1\n",
      "           2       1.00      0.73      0.85        30\n",
      "\n",
      "    accuracy                           0.74        31\n",
      "   macro avg       0.56      0.87      0.52        31\n",
      "weighted avg       0.97      0.74      0.83        31\n",
      "\n",
      "===================================================================\n",
      "\t\t\t AdaBoostClassifier \n",
      "===================================================================\n",
      "\n",
      "\n",
      "            =========================================\n",
      "               CLASSIFICATION REPORT FOR TRAIN DATA\n",
      "            =========================================\n",
      "              precision    recall  f1-score   support\n",
      "\n",
      "           1       1.00      1.00      1.00        31\n",
      "           2       1.00      1.00      1.00        93\n",
      "\n",
      "    accuracy                           1.00       124\n",
      "   macro avg       1.00      1.00      1.00       124\n",
      "weighted avg       1.00      1.00      1.00       124\n",
      "\n",
      "\n",
      "            =========================================\n",
      "               CLASSIFICATION REPORT FOR TEST DATA\n",
      "            =========================================\n",
      "              precision    recall  f1-score   support\n",
      "\n",
      "           1       0.14      1.00      0.25         1\n",
      "           2       1.00      0.80      0.89        30\n",
      "\n",
      "    accuracy                           0.81        31\n",
      "   macro avg       0.57      0.90      0.57        31\n",
      "weighted avg       0.97      0.81      0.87        31\n",
      "\n",
      "===================================================================\n",
      "\t\t\t RandomForestClassifier \n",
      "===================================================================\n",
      "\n",
      "\n",
      "            =========================================\n",
      "               CLASSIFICATION REPORT FOR TRAIN DATA\n",
      "            =========================================\n",
      "              precision    recall  f1-score   support\n",
      "\n",
      "           1       1.00      1.00      1.00        31\n",
      "           2       1.00      1.00      1.00        93\n",
      "\n",
      "    accuracy                           1.00       124\n",
      "   macro avg       1.00      1.00      1.00       124\n",
      "weighted avg       1.00      1.00      1.00       124\n",
      "\n",
      "\n",
      "            =========================================\n",
      "               CLASSIFICATION REPORT FOR TEST DATA\n",
      "            =========================================\n",
      "              precision    recall  f1-score   support\n",
      "\n",
      "           1       0.10      1.00      0.18         1\n",
      "           2       1.00      0.70      0.82        30\n",
      "\n",
      "    accuracy                           0.71        31\n",
      "   macro avg       0.55      0.85      0.50        31\n",
      "weighted avg       0.97      0.71      0.80        31\n",
      "\n",
      "===================================================================\n",
      "\t\t\t GradientBoostingClassifier \n",
      "===================================================================\n",
      "\n",
      "\n",
      "            =========================================\n",
      "               CLASSIFICATION REPORT FOR TRAIN DATA\n",
      "            =========================================\n",
      "              precision    recall  f1-score   support\n",
      "\n",
      "           1       1.00      1.00      1.00        31\n",
      "           2       1.00      1.00      1.00        93\n",
      "\n",
      "    accuracy                           1.00       124\n",
      "   macro avg       1.00      1.00      1.00       124\n",
      "weighted avg       1.00      1.00      1.00       124\n",
      "\n",
      "\n",
      "            =========================================\n",
      "               CLASSIFICATION REPORT FOR TEST DATA\n",
      "            =========================================\n",
      "              precision    recall  f1-score   support\n",
      "\n",
      "           1       0.14      1.00      0.25         1\n",
      "           2       1.00      0.80      0.89        30\n",
      "\n",
      "    accuracy                           0.81        31\n",
      "   macro avg       0.57      0.90      0.57        31\n",
      "weighted avg       0.97      0.81      0.87        31\n",
      "\n",
      "===================================================================\n",
      "\t\t\t XGBClassifier \n",
      "===================================================================\n",
      "\n",
      "\n",
      "            =========================================\n",
      "               CLASSIFICATION REPORT FOR TRAIN DATA\n",
      "            =========================================\n",
      "              precision    recall  f1-score   support\n",
      "\n",
      "           1       1.00      1.00      1.00        31\n",
      "           2       1.00      1.00      1.00        93\n",
      "\n",
      "    accuracy                           1.00       124\n",
      "   macro avg       1.00      1.00      1.00       124\n",
      "weighted avg       1.00      1.00      1.00       124\n",
      "\n",
      "\n",
      "            =========================================\n",
      "               CLASSIFICATION REPORT FOR TEST DATA\n",
      "            =========================================\n",
      "              precision    recall  f1-score   support\n",
      "\n",
      "           1       0.11      1.00      0.20         1\n",
      "           2       1.00      0.73      0.85        30\n",
      "\n",
      "    accuracy                           0.74        31\n",
      "   macro avg       0.56      0.87      0.52        31\n",
      "weighted avg       0.97      0.74      0.83        31\n",
      "\n"
     ]
    }
   ],
   "source": [
    "from sklearn.ensemble import BaggingClassifier, AdaBoostClassifier, RandomForestClassifier, GradientBoostingClassifier\n",
    "from xgboost import XGBClassifier\n",
    "\n",
    "estimators = [BaggingClassifier(random_state=123),\n",
    "              AdaBoostClassifier(random_state=123), \n",
    "              RandomForestClassifier(random_state=123), \n",
    "              GradientBoostingClassifier(random_state=123),\n",
    "              XGBClassifier(random_state=123)]\n",
    "\n",
    "\n",
    "\n",
    "for estimator in estimators :\n",
    "\n",
    "    model, pred_train, pred_test = model_building(X_train, y_train, X_test, estimator)\n",
    "    \n",
    "    print('===================================================================\\n\\t\\t\\t',\n",
    "          type(estimator).__name__,\n",
    "          '\\n===================================================================\\n')\n",
    "    \n",
    "    model_evaluation(y_train, pred_train, y_test, pred_test)"
   ]
  },
  {
   "cell_type": "markdown",
   "metadata": {},
   "source": [
    ">Observations?\n",
    "\n",
    "\n",
    "\n",
    "## K-fold Crossvalidation with Grid Search"
   ]
  },
  {
   "cell_type": "code",
   "execution_count": 30,
   "metadata": {
    "ExecuteTime": {
     "end_time": "2019-11-02T05:10:16.420086Z",
     "start_time": "2019-11-02T05:07:53.088784Z"
    },
    "scrolled": false
   },
   "outputs": [
    {
     "name": "stderr",
     "output_type": "stream",
     "text": [
      "C:\\Users\\OMKARA\\Anaconda3\\lib\\site-packages\\sklearn\\model_selection\\_search.py:813: DeprecationWarning: The default of the `iid` parameter will change from True to False in version 0.22 and will be removed in 0.24. This will change numeric results when test-set sizes are unequal.\n",
      "  DeprecationWarning)\n"
     ]
    },
    {
     "name": "stdout",
     "output_type": "stream",
     "text": [
      "===================================================================\n",
      "\t\t\t AdaBoostClassifier \n",
      "===================================================================\n",
      "\n",
      "{'learning_rate': 0.1, 'n_estimators': 100} \n",
      "\n",
      "\n",
      "\n",
      "            =========================================\n",
      "               CLASSIFICATION REPORT FOR TRAIN DATA\n",
      "            =========================================\n",
      "              precision    recall  f1-score   support\n",
      "\n",
      "           1       0.93      0.87      0.90        31\n",
      "           2       0.96      0.98      0.97        93\n",
      "\n",
      "    accuracy                           0.95       124\n",
      "   macro avg       0.94      0.92      0.93       124\n",
      "weighted avg       0.95      0.95      0.95       124\n",
      "\n",
      "\n",
      "            =========================================\n",
      "               CLASSIFICATION REPORT FOR TEST DATA\n",
      "            =========================================\n",
      "              precision    recall  f1-score   support\n",
      "\n",
      "           1       0.20      1.00      0.33         1\n",
      "           2       1.00      0.87      0.93        30\n",
      "\n",
      "    accuracy                           0.87        31\n",
      "   macro avg       0.60      0.93      0.63        31\n",
      "weighted avg       0.97      0.87      0.91        31\n",
      "\n"
     ]
    },
    {
     "name": "stderr",
     "output_type": "stream",
     "text": [
      "C:\\Users\\OMKARA\\Anaconda3\\lib\\site-packages\\sklearn\\model_selection\\_search.py:813: DeprecationWarning: The default of the `iid` parameter will change from True to False in version 0.22 and will be removed in 0.24. This will change numeric results when test-set sizes are unequal.\n",
      "  DeprecationWarning)\n"
     ]
    },
    {
     "name": "stdout",
     "output_type": "stream",
     "text": [
      "===================================================================\n",
      "\t\t\t RandomForestClassifier \n",
      "===================================================================\n",
      "\n",
      "{'max_depth': 10, 'min_samples_leaf': 5, 'n_estimators': 25} \n",
      "\n",
      "\n",
      "\n",
      "            =========================================\n",
      "               CLASSIFICATION REPORT FOR TRAIN DATA\n",
      "            =========================================\n",
      "              precision    recall  f1-score   support\n",
      "\n",
      "           1       0.92      0.77      0.84        31\n",
      "           2       0.93      0.98      0.95        93\n",
      "\n",
      "    accuracy                           0.93       124\n",
      "   macro avg       0.93      0.88      0.90       124\n",
      "weighted avg       0.93      0.93      0.93       124\n",
      "\n",
      "\n",
      "            =========================================\n",
      "               CLASSIFICATION REPORT FOR TEST DATA\n",
      "            =========================================\n",
      "              precision    recall  f1-score   support\n",
      "\n",
      "           1       0.20      1.00      0.33         1\n",
      "           2       1.00      0.87      0.93        30\n",
      "\n",
      "    accuracy                           0.87        31\n",
      "   macro avg       0.60      0.93      0.63        31\n",
      "weighted avg       0.97      0.87      0.91        31\n",
      "\n"
     ]
    },
    {
     "name": "stderr",
     "output_type": "stream",
     "text": [
      "C:\\Users\\OMKARA\\Anaconda3\\lib\\site-packages\\sklearn\\model_selection\\_search.py:813: DeprecationWarning: The default of the `iid` parameter will change from True to False in version 0.22 and will be removed in 0.24. This will change numeric results when test-set sizes are unequal.\n",
      "  DeprecationWarning)\n"
     ]
    },
    {
     "name": "stdout",
     "output_type": "stream",
     "text": [
      "===================================================================\n",
      "\t\t\t RandomForestClassifier \n",
      "===================================================================\n",
      "\n",
      "{'class_weight': 'balanced', 'max_depth': 10, 'min_samples_leaf': 5, 'n_estimators': 50} \n",
      "\n",
      "\n",
      "\n",
      "            =========================================\n",
      "               CLASSIFICATION REPORT FOR TRAIN DATA\n",
      "            =========================================\n",
      "              precision    recall  f1-score   support\n",
      "\n",
      "           1       0.77      0.87      0.82        31\n",
      "           2       0.96      0.91      0.93        93\n",
      "\n",
      "    accuracy                           0.90       124\n",
      "   macro avg       0.86      0.89      0.88       124\n",
      "weighted avg       0.91      0.90      0.91       124\n",
      "\n",
      "\n",
      "            =========================================\n",
      "               CLASSIFICATION REPORT FOR TEST DATA\n",
      "            =========================================\n",
      "              precision    recall  f1-score   support\n",
      "\n",
      "           1       0.14      1.00      0.25         1\n",
      "           2       1.00      0.80      0.89        30\n",
      "\n",
      "    accuracy                           0.81        31\n",
      "   macro avg       0.57      0.90      0.57        31\n",
      "weighted avg       0.97      0.81      0.87        31\n",
      "\n"
     ]
    },
    {
     "name": "stderr",
     "output_type": "stream",
     "text": [
      "C:\\Users\\OMKARA\\Anaconda3\\lib\\site-packages\\sklearn\\model_selection\\_search.py:813: DeprecationWarning: The default of the `iid` parameter will change from True to False in version 0.22 and will be removed in 0.24. This will change numeric results when test-set sizes are unequal.\n",
      "  DeprecationWarning)\n"
     ]
    },
    {
     "name": "stdout",
     "output_type": "stream",
     "text": [
      "===================================================================\n",
      "\t\t\t GradientBoostingClassifier \n",
      "===================================================================\n",
      "\n",
      "{'learning_rate': 0.9, 'max_depth': 5, 'n_estimators': 100} \n",
      "\n",
      "\n",
      "\n",
      "            =========================================\n",
      "               CLASSIFICATION REPORT FOR TRAIN DATA\n",
      "            =========================================\n",
      "              precision    recall  f1-score   support\n",
      "\n",
      "           1       1.00      1.00      1.00        31\n",
      "           2       1.00      1.00      1.00        93\n",
      "\n",
      "    accuracy                           1.00       124\n",
      "   macro avg       1.00      1.00      1.00       124\n",
      "weighted avg       1.00      1.00      1.00       124\n",
      "\n",
      "\n",
      "            =========================================\n",
      "               CLASSIFICATION REPORT FOR TEST DATA\n",
      "            =========================================\n",
      "              precision    recall  f1-score   support\n",
      "\n",
      "           1       0.11      1.00      0.20         1\n",
      "           2       1.00      0.73      0.85        30\n",
      "\n",
      "    accuracy                           0.74        31\n",
      "   macro avg       0.56      0.87      0.52        31\n",
      "weighted avg       0.97      0.74      0.83        31\n",
      "\n"
     ]
    },
    {
     "name": "stderr",
     "output_type": "stream",
     "text": [
      "C:\\Users\\OMKARA\\Anaconda3\\lib\\site-packages\\sklearn\\model_selection\\_search.py:813: DeprecationWarning: The default of the `iid` parameter will change from True to False in version 0.22 and will be removed in 0.24. This will change numeric results when test-set sizes are unequal.\n",
      "  DeprecationWarning)\n"
     ]
    },
    {
     "name": "stdout",
     "output_type": "stream",
     "text": [
      "===================================================================\n",
      "\t\t\t XGBClassifier \n",
      "===================================================================\n",
      "\n",
      "{'colsample_bytree': 0.5, 'max_depth': 10, 'n_estimators': 200} \n",
      "\n",
      "\n",
      "\n",
      "            =========================================\n",
      "               CLASSIFICATION REPORT FOR TRAIN DATA\n",
      "            =========================================\n",
      "              precision    recall  f1-score   support\n",
      "\n",
      "           1       1.00      1.00      1.00        31\n",
      "           2       1.00      1.00      1.00        93\n",
      "\n",
      "    accuracy                           1.00       124\n",
      "   macro avg       1.00      1.00      1.00       124\n",
      "weighted avg       1.00      1.00      1.00       124\n",
      "\n",
      "\n",
      "            =========================================\n",
      "               CLASSIFICATION REPORT FOR TEST DATA\n",
      "            =========================================\n",
      "              precision    recall  f1-score   support\n",
      "\n",
      "           1       0.14      1.00      0.25         1\n",
      "           2       1.00      0.80      0.89        30\n",
      "\n",
      "    accuracy                           0.81        31\n",
      "   macro avg       0.57      0.90      0.57        31\n",
      "weighted avg       0.97      0.81      0.87        31\n",
      "\n"
     ]
    }
   ],
   "source": [
    "estimators = [(AdaBoostClassifier(), {'n_estimators' : [100, 150, 200], \n",
    "                                      'learning_rate' : [0.1, 0.5, 0.9]}), \n",
    "              (RandomForestClassifier(), {'n_estimators' : [10, 25, 50, 75, 100], \n",
    "                                          'max_depth' : [10, 12, 14, 16, 18, 20], \n",
    "                                          'min_samples_leaf' : [5, 10, 15, 20]}), \n",
    "              (RandomForestClassifier(), {'n_estimators' : [10, 25, 50, 75, 100], \n",
    "                                          'max_depth' : [10, 12, 14, 16, 18, 20], \n",
    "                                          'min_samples_leaf' : [5, 10, 15, 20], \n",
    "                                          'class_weight' : ['balanced']}),\n",
    "              (GradientBoostingClassifier(), {'n_estimators' : [100,150,200,250], \n",
    "                                              'max_depth' : [5, 10], \n",
    "                                              'learning_rate' : [0.1,0.5,0.9]}), \n",
    "              (XGBClassifier(), {'colsample_bytree': [0.5, 0.6, 0.7], \n",
    "                                 'n_estimators':[100, 200], \n",
    "                                 'max_depth': [10, 15, 20, 25]})]\n",
    "\n",
    "for estimator, parameters in estimators :\n",
    "    \n",
    "    model_cv, model, pred_train, pred_test = model_building(X_train, y_train,\n",
    "                                                            X_test, estimator, parameters, 10)\n",
    "    \n",
    "    print('===================================================================\\n\\t\\t\\t',\n",
    "          type(estimator).__name__,\n",
    "          '\\n===================================================================\\n')\n",
    "    \n",
    "    print(model_cv.best_params_, '\\n\\n')\n",
    "    \n",
    "    model_evaluation(y_train, pred_train, y_test, pred_test)\n",
    "    "
   ]
  },
  {
   "cell_type": "markdown",
   "metadata": {},
   "source": [
    "> **Random Forest with balanced weights is giving the best result.**"
   ]
  },
  {
   "cell_type": "markdown",
   "metadata": {},
   "source": [
    "# Model Iterations\n",
    "\n",
    "___\n",
    "\n",
    "We will keep a separate dataframe where we don't have protime feature."
   ]
  },
  {
   "cell_type": "code",
   "execution_count": 31,
   "metadata": {
    "ExecuteTime": {
     "end_time": "2019-11-02T05:14:01.627518Z",
     "start_time": "2019-11-02T05:14:01.621960Z"
    },
    "scrolled": false
   },
   "outputs": [],
   "source": [
    "X_train_nopro, X_test_nopro = X_train.drop('protime', axis = 1), X_test.drop('protime', axis = 1)\n",
    "\n"
   ]
  },
  {
   "cell_type": "code",
   "execution_count": 40,
   "metadata": {
    "ExecuteTime": {
     "end_time": "2019-11-02T05:18:33.723879Z",
     "start_time": "2019-11-02T05:18:13.837765Z"
    },
    "scrolled": true
   },
   "outputs": [
    {
     "name": "stderr",
     "output_type": "stream",
     "text": [
      "C:\\Users\\OMKARA\\Anaconda3\\lib\\site-packages\\sklearn\\model_selection\\_search.py:813: DeprecationWarning: The default of the `iid` parameter will change from True to False in version 0.22 and will be removed in 0.24. This will change numeric results when test-set sizes are unequal.\n",
      "  DeprecationWarning)\n"
     ]
    },
    {
     "name": "stdout",
     "output_type": "stream",
     "text": [
      "===================================================================\n",
      "\t\t\t RandomForestClassifier \n",
      "===================================================================\n",
      "\n",
      "{'max_depth': 14, 'min_samples_leaf': 5, 'n_estimators': 50} \n",
      "\n",
      "\n",
      "\n",
      "            =========================================\n",
      "               CLASSIFICATION REPORT FOR TRAIN DATA\n",
      "            =========================================\n",
      "              precision    recall  f1-score   support\n",
      "\n",
      "           1       0.93      0.81      0.86        31\n",
      "           2       0.94      0.98      0.96        93\n",
      "\n",
      "    accuracy                           0.94       124\n",
      "   macro avg       0.93      0.89      0.91       124\n",
      "weighted avg       0.94      0.94      0.93       124\n",
      "\n",
      "\n",
      "            =========================================\n",
      "               CLASSIFICATION REPORT FOR TEST DATA\n",
      "            =========================================\n",
      "              precision    recall  f1-score   support\n",
      "\n",
      "           1       0.20      1.00      0.33         1\n",
      "           2       1.00      0.87      0.93        30\n",
      "\n",
      "    accuracy                           0.87        31\n",
      "   macro avg       0.60      0.93      0.63        31\n",
      "weighted avg       0.97      0.87      0.91        31\n",
      "\n",
      "===================================================================\n",
      "\t\t\t RandomForestClassifier \n",
      "===================================================================\n",
      "\n",
      "{'class_weight': 'balanced', 'max_depth': 14, 'min_samples_leaf': 5, 'n_estimators': 75} \n",
      "\n",
      "\n",
      "\n",
      "            =========================================\n",
      "               CLASSIFICATION REPORT FOR TRAIN DATA\n",
      "            =========================================\n",
      "              precision    recall  f1-score   support\n",
      "\n",
      "           1       0.78      0.94      0.85        31\n",
      "           2       0.98      0.91      0.94        93\n",
      "\n",
      "    accuracy                           0.92       124\n",
      "   macro avg       0.88      0.92      0.90       124\n",
      "weighted avg       0.93      0.92      0.92       124\n",
      "\n",
      "\n",
      "            =========================================\n",
      "               CLASSIFICATION REPORT FOR TEST DATA\n",
      "            =========================================\n",
      "              precision    recall  f1-score   support\n",
      "\n",
      "           1       0.12      1.00      0.22         1\n",
      "           2       1.00      0.77      0.87        30\n",
      "\n",
      "    accuracy                           0.77        31\n",
      "   macro avg       0.56      0.88      0.55        31\n",
      "weighted avg       0.97      0.77      0.85        31\n",
      "\n"
     ]
    },
    {
     "name": "stderr",
     "output_type": "stream",
     "text": [
      "C:\\Users\\OMKARA\\Anaconda3\\lib\\site-packages\\sklearn\\model_selection\\_search.py:813: DeprecationWarning: The default of the `iid` parameter will change from True to False in version 0.22 and will be removed in 0.24. This will change numeric results when test-set sizes are unequal.\n",
      "  DeprecationWarning)\n"
     ]
    }
   ],
   "source": [
    "estimators = [(RandomForestClassifier(), {'n_estimators' : [50, 75], 'max_depth' : [12, 14, 16, 18], \n",
    "                                          'min_samples_leaf' : [5, 10]}), \n",
    "              (RandomForestClassifier(), {'n_estimators' : [50, 75], 'max_depth' : [12, 14, 16, 18], \n",
    "                                          'min_samples_leaf' : [5, 10], 'class_weight' : ['balanced']})]\n",
    "\n",
    "### Find best estimator for above estimators and their hyperparameters.\n",
    "\n",
    "\n",
    "for estimator, parameters in estimators :\n",
    "    \n",
    "    model_cv, model, pred_train, pred_test = model_building(X_train, y_train,\n",
    "                                                            X_test, estimator, parameters, 10)\n",
    "    \n",
    "    \n",
    "    \n",
    "    \n",
    "    print('===================================================================\\n\\t\\t\\t',\n",
    "          type(estimator).__name__,\n",
    "          '\\n===================================================================\\n')\n",
    "    \n",
    "    \n",
    "    ### Print models with best params using .best_params_\n",
    "    \n",
    "    print(model_cv.best_params_, '\\n\\n')\n",
    "    \n",
    "    ### Evaluate best model using model_evaluation function we built earlier\n",
    "    \n",
    "    model_evaluation(y_train, pred_train, y_test, pred_test)\n",
    "    \n",
    "    "
   ]
  },
  {
   "cell_type": "markdown",
   "metadata": {},
   "source": [
    "We can also build a plot to check the learning curve for train and test set."
   ]
  },
  {
   "cell_type": "code",
   "execution_count": 47,
   "metadata": {},
   "outputs": [
    {
     "name": "stdout",
     "output_type": "stream",
     "text": [
      "Collecting mlxtend\n",
      "  Downloading https://files.pythonhosted.org/packages/52/04/c362f34f666f0ddc7cf593805e64d64fa670ed96fd9302e68549dd48287d/mlxtend-0.17.0-py2.py3-none-any.whl (1.3MB)\n",
      "Requirement already satisfied: scikit-learn>=0.20.3 in c:\\users\\omkara\\anaconda3\\lib\\site-packages (from mlxtend) (0.21.2)\n",
      "Requirement already satisfied: joblib>=0.13.2 in c:\\users\\omkara\\anaconda3\\lib\\site-packages (from mlxtend) (0.13.2)\n",
      "Requirement already satisfied: pandas>=0.24.2 in c:\\users\\omkara\\anaconda3\\lib\\site-packages (from mlxtend) (0.24.2)\n",
      "Requirement already satisfied: matplotlib>=3.0.0 in c:\\users\\omkara\\anaconda3\\lib\\site-packages (from mlxtend) (3.1.0)\n",
      "Requirement already satisfied: scipy>=1.2.1 in c:\\users\\omkara\\anaconda3\\lib\\site-packages (from mlxtend) (1.2.1)\n",
      "Requirement already satisfied: setuptools in c:\\users\\omkara\\anaconda3\\lib\\site-packages (from mlxtend) (41.0.1)\n",
      "Requirement already satisfied: numpy>=1.16.2 in c:\\users\\omkara\\anaconda3\\lib\\site-packages (from mlxtend) (1.16.4)\n",
      "Requirement already satisfied: python-dateutil>=2.5.0 in c:\\users\\omkara\\anaconda3\\lib\\site-packages (from pandas>=0.24.2->mlxtend) (2.8.0)\n",
      "Requirement already satisfied: pytz>=2011k in c:\\users\\omkara\\anaconda3\\lib\\site-packages (from pandas>=0.24.2->mlxtend) (2019.1)\n",
      "Requirement already satisfied: cycler>=0.10 in c:\\users\\omkara\\anaconda3\\lib\\site-packages (from matplotlib>=3.0.0->mlxtend) (0.10.0)\n",
      "Requirement already satisfied: kiwisolver>=1.0.1 in c:\\users\\omkara\\anaconda3\\lib\\site-packages (from matplotlib>=3.0.0->mlxtend) (1.1.0)\n",
      "Requirement already satisfied: pyparsing!=2.0.4,!=2.1.2,!=2.1.6,>=2.0.1 in c:\\users\\omkara\\anaconda3\\lib\\site-packages (from matplotlib>=3.0.0->mlxtend) (2.4.0)\n",
      "Requirement already satisfied: six>=1.5 in c:\\users\\omkara\\anaconda3\\lib\\site-packages (from python-dateutil>=2.5.0->pandas>=0.24.2->mlxtend) (1.12.0)\n",
      "Installing collected packages: mlxtend\n",
      "Successfully installed mlxtend-0.17.0\n"
     ]
    }
   ],
   "source": [
    "!pip install mlxtend"
   ]
  },
  {
   "cell_type": "code",
   "execution_count": 48,
   "metadata": {
    "ExecuteTime": {
     "end_time": "2019-11-02T05:27:45.900364Z",
     "start_time": "2019-11-02T05:27:44.800491Z"
    },
    "scrolled": false
   },
   "outputs": [
    {
     "data": {
      "text/plain": [
       "([0.6666666666666666,\n",
       "  0.9411764705882353,\n",
       "  0.9166666666666666,\n",
       "  0.8125,\n",
       "  0.8205128205128205,\n",
       "  0.8181818181818182,\n",
       "  0.8627450980392156,\n",
       "  0.793103448275862,\n",
       "  0.8387096774193549,\n",
       "  0.8115942028985507],\n",
       " [0.0,\n",
       "  0.25,\n",
       "  0.25,\n",
       "  0.19999999999999998,\n",
       "  0.2222222222222222,\n",
       "  0.18181818181818182,\n",
       "  0.19999999999999998,\n",
       "  0.19999999999999998,\n",
       "  0.16666666666666669,\n",
       "  0.25])"
      ]
     },
     "execution_count": 48,
     "metadata": {},
     "output_type": "execute_result"
    },
    {
     "data": {
      "image/png": "[encoded data removed]",
      "text/plain": [
       "<Figure size 432x288 with 1 Axes>"
      ]
     },
     "metadata": {},
     "output_type": "display_data"
    }
   ],
   "source": [
    "from mlxtend.plotting import plot_learning_curves\n",
    "\n",
    "rf = RandomForestClassifier(n_estimators = 75, max_depth = 12, \n",
    "                            min_samples_leaf = 5, class_weight = 'balanced')\n",
    "\n",
    "plot_learning_curves(X_train_nopro, y_train, X_test_nopro, y_test, rf, scoring = 'f1_weighted')"
   ]
  },
  {
   "cell_type": "markdown",
   "metadata": {},
   "source": [
    "# Feature Engineering\n",
    "\n",
    "___\n",
    "\n",
    "We will try to add some features based on some google search for the various test data available. We will find the valid ranges and add categorical features for each.\n",
    "\n",
    "- `bilirubin` : For adults over 18, normal total bilirubin can be up to 1.2 milligrams per deciliter (mg/dl) of blood. For those under 18, the normal level will be will be 1 mg/dl. \n",
    "\n",
    "- `alk phosphate` : The ALP level in healthy adults should be 20–140 units per liter (U/L).\n",
    "\n",
    "- `sgot` : The normal range of an SGOT test is generally between 8 and 45 units per liter of serum. In general, men may naturally have higher amounts of AST in the blood. A score above 50 for men and 45 for women is high and may indicate damage.\n",
    "\n",
    "- `albumin` : The normal range is 3.5 to 5.5 g/dL or 35-55 g/liter. "
   ]
  },
  {
   "cell_type": "code",
   "execution_count": 49,
   "metadata": {
    "ExecuteTime": {
     "end_time": "2019-11-02T05:30:41.180659Z",
     "start_time": "2019-11-02T05:30:41.175909Z"
    },
    "scrolled": false
   },
   "outputs": [],
   "source": [
    "X_train_new, X_test_new = X_train.copy(), X_test.copy()"
   ]
  },
  {
   "cell_type": "code",
   "execution_count": 50,
   "metadata": {
    "ExecuteTime": {
     "end_time": "2019-11-02T05:30:50.312940Z",
     "start_time": "2019-11-02T05:30:50.276374Z"
    },
    "scrolled": false
   },
   "outputs": [
    {
     "data": {
      "text/html": [
       "<div>\n",
       "<style scoped>\n",
       "    .dataframe tbody tr th:only-of-type {\n",
       "        vertical-align: middle;\n",
       "    }\n",
       "\n",
       "    .dataframe tbody tr th {\n",
       "        vertical-align: top;\n",
       "    }\n",
       "\n",
       "    .dataframe thead th {\n",
       "        text-align: right;\n",
       "    }\n",
       "</style>\n",
       "<table border=\"1\" class=\"dataframe\">\n",
       "  <thead>\n",
       "    <tr style=\"text-align: right;\">\n",
       "      <th></th>\n",
       "      <th>age</th>\n",
       "      <th>bilirubin</th>\n",
       "      <th>alk phosphate</th>\n",
       "      <th>sgot</th>\n",
       "      <th>albumin</th>\n",
       "    </tr>\n",
       "  </thead>\n",
       "  <tbody>\n",
       "    <tr>\n",
       "      <th>count</th>\n",
       "      <td>124.000</td>\n",
       "      <td>124.000</td>\n",
       "      <td>124.000</td>\n",
       "      <td>124.00</td>\n",
       "      <td>124.000</td>\n",
       "    </tr>\n",
       "    <tr>\n",
       "      <th>mean</th>\n",
       "      <td>41.097</td>\n",
       "      <td>1.401</td>\n",
       "      <td>101.337</td>\n",
       "      <td>84.20</td>\n",
       "      <td>3.790</td>\n",
       "    </tr>\n",
       "    <tr>\n",
       "      <th>std</th>\n",
       "      <td>12.339</td>\n",
       "      <td>1.119</td>\n",
       "      <td>47.717</td>\n",
       "      <td>92.06</td>\n",
       "      <td>0.667</td>\n",
       "    </tr>\n",
       "    <tr>\n",
       "      <th>min</th>\n",
       "      <td>7.000</td>\n",
       "      <td>0.400</td>\n",
       "      <td>26.000</td>\n",
       "      <td>14.00</td>\n",
       "      <td>2.100</td>\n",
       "    </tr>\n",
       "    <tr>\n",
       "      <th>25%</th>\n",
       "      <td>32.000</td>\n",
       "      <td>0.700</td>\n",
       "      <td>71.750</td>\n",
       "      <td>30.75</td>\n",
       "      <td>3.400</td>\n",
       "    </tr>\n",
       "    <tr>\n",
       "      <th>50%</th>\n",
       "      <td>39.000</td>\n",
       "      <td>1.000</td>\n",
       "      <td>85.000</td>\n",
       "      <td>58.00</td>\n",
       "      <td>3.950</td>\n",
       "    </tr>\n",
       "    <tr>\n",
       "      <th>75%</th>\n",
       "      <td>50.000</td>\n",
       "      <td>1.585</td>\n",
       "      <td>122.700</td>\n",
       "      <td>98.00</td>\n",
       "      <td>4.200</td>\n",
       "    </tr>\n",
       "    <tr>\n",
       "      <th>max</th>\n",
       "      <td>78.000</td>\n",
       "      <td>8.000</td>\n",
       "      <td>295.000</td>\n",
       "      <td>648.00</td>\n",
       "      <td>6.400</td>\n",
       "    </tr>\n",
       "  </tbody>\n",
       "</table>\n",
       "</div>"
      ],
      "text/plain": [
       "           age  bilirubin  alk phosphate    sgot  albumin\n",
       "count  124.000    124.000        124.000  124.00  124.000\n",
       "mean    41.097      1.401        101.337   84.20    3.790\n",
       "std     12.339      1.119         47.717   92.06    0.667\n",
       "min      7.000      0.400         26.000   14.00    2.100\n",
       "25%     32.000      0.700         71.750   30.75    3.400\n",
       "50%     39.000      1.000         85.000   58.00    3.950\n",
       "75%     50.000      1.585        122.700   98.00    4.200\n",
       "max     78.000      8.000        295.000  648.00    6.400"
      ]
     },
     "execution_count": 50,
     "metadata": {},
     "output_type": "execute_result"
    }
   ],
   "source": [
    "X_train_new[['age', 'bilirubin', 'alk phosphate', 'sgot', 'albumin']].describe()"
   ]
  },
  {
   "cell_type": "markdown",
   "metadata": {},
   "source": [
    "#### Create bins for numeric variables and generate new categorical features using pd.cut()"
   ]
  },
  {
   "cell_type": "raw",
   "metadata": {},
   "source": [
    "#### Create bins for numeric variables and generate new categorical features\n",
    "\n",
    "df['bilirubin']pd.cut(bins=[0, 1.2, float('Inf')], labels = [0, 1])\n",
    "df['alk phosphate']pd.cut(bins=[20, 140, float('Inf')], labels = [0, 1])\n",
    "df['sgot']pd.cut(bins=[8, 45, float('Inf')], labels = [0, 1])\n",
    "df['albumin']pd.cut(bins=[0, 3.5, 5.5, float('Inf')], labels = [2, 0, 1])\n"
   ]
  },
  {
   "cell_type": "code",
   "execution_count": 61,
   "metadata": {
    "ExecuteTime": {
     "end_time": "2019-11-02T05:31:16.105898Z",
     "start_time": "2019-11-02T05:31:16.089779Z"
    },
    "scrolled": false
   },
   "outputs": [],
   "source": [
    "def feature_engg(df) :\n",
    "    df['bilirubin_normal'] = pd.cut(df.bilirubin, bins=[0, 1.2, float('Inf')], labels = [0, 1])\n",
    "    df['alk phosphate_normal'] = pd.cut(df['alk phosphate'], bins=[20, 140, float('Inf')], labels = [0, 1])\n",
    "    df['sgot_normal'] = pd.cut(df.sgot, bins=[8, 45, float('Inf')], labels = [0, 1])\n",
    "    df['albumin_normal']= pd.cut(df.albumin, bins=[0, 3.5, 5.5, float('Inf')], labels = [2, 0, 1])\n",
    "\n",
    "    df.drop(['bilirubin', 'alk phosphate', 'sgot', 'albumin'], axis = 1, inplace = True)\n",
    "    \n",
    "    return df"
   ]
  },
  {
   "cell_type": "code",
   "execution_count": 62,
   "metadata": {
    "ExecuteTime": {
     "end_time": "2019-11-02T05:31:22.571735Z",
     "start_time": "2019-11-02T05:31:22.533179Z"
    }
   },
   "outputs": [],
   "source": [
    "X_train_new = feature_engg(X_train_new)\n",
    "X_test_new = feature_engg(X_test_new)"
   ]
  },
  {
   "cell_type": "code",
   "execution_count": 63,
   "metadata": {
    "ExecuteTime": {
     "end_time": "2019-11-02T05:31:25.693718Z",
     "start_time": "2019-11-02T05:31:25.665375Z"
    },
    "scrolled": false
   },
   "outputs": [
    {
     "data": {
      "text/html": [
       "<div>\n",
       "<style scoped>\n",
       "    .dataframe tbody tr th:only-of-type {\n",
       "        vertical-align: middle;\n",
       "    }\n",
       "\n",
       "    .dataframe tbody tr th {\n",
       "        vertical-align: top;\n",
       "    }\n",
       "\n",
       "    .dataframe thead th {\n",
       "        text-align: right;\n",
       "    }\n",
       "</style>\n",
       "<table border=\"1\" class=\"dataframe\">\n",
       "  <thead>\n",
       "    <tr style=\"text-align: right;\">\n",
       "      <th></th>\n",
       "      <th>age</th>\n",
       "      <th>sex</th>\n",
       "      <th>steroid</th>\n",
       "      <th>antivirals</th>\n",
       "      <th>fatigue</th>\n",
       "      <th>malaise</th>\n",
       "      <th>anorexia</th>\n",
       "      <th>liver big</th>\n",
       "      <th>liver firm</th>\n",
       "      <th>spleen palpable</th>\n",
       "      <th>spiders</th>\n",
       "      <th>ascites</th>\n",
       "      <th>varices</th>\n",
       "      <th>protime</th>\n",
       "      <th>histology</th>\n",
       "      <th>bilirubin_normal</th>\n",
       "      <th>alk phosphate_normal</th>\n",
       "      <th>sgot_normal</th>\n",
       "      <th>albumin_normal</th>\n",
       "    </tr>\n",
       "  </thead>\n",
       "  <tbody>\n",
       "    <tr>\n",
       "      <th>74</th>\n",
       "      <td>50.0</td>\n",
       "      <td>1.0</td>\n",
       "      <td>2.0</td>\n",
       "      <td>2.0</td>\n",
       "      <td>2.0</td>\n",
       "      <td>2.0</td>\n",
       "      <td>2.0</td>\n",
       "      <td>2.0</td>\n",
       "      <td>2.0</td>\n",
       "      <td>2.0</td>\n",
       "      <td>2.0</td>\n",
       "      <td>2.0</td>\n",
       "      <td>2.0</td>\n",
       "      <td>55.2</td>\n",
       "      <td>1.0</td>\n",
       "      <td>1</td>\n",
       "      <td>0</td>\n",
       "      <td>1</td>\n",
       "      <td>0</td>\n",
       "    </tr>\n",
       "    <tr>\n",
       "      <th>142</th>\n",
       "      <td>51.0</td>\n",
       "      <td>1.0</td>\n",
       "      <td>2.0</td>\n",
       "      <td>2.0</td>\n",
       "      <td>1.0</td>\n",
       "      <td>2.0</td>\n",
       "      <td>2.0</td>\n",
       "      <td>2.0</td>\n",
       "      <td>1.0</td>\n",
       "      <td>1.0</td>\n",
       "      <td>1.0</td>\n",
       "      <td>2.0</td>\n",
       "      <td>1.0</td>\n",
       "      <td>63.0</td>\n",
       "      <td>2.0</td>\n",
       "      <td>0</td>\n",
       "      <td>0</td>\n",
       "      <td>0</td>\n",
       "      <td>2</td>\n",
       "    </tr>\n",
       "    <tr>\n",
       "      <th>131</th>\n",
       "      <td>31.0</td>\n",
       "      <td>1.0</td>\n",
       "      <td>1.0</td>\n",
       "      <td>2.0</td>\n",
       "      <td>1.0</td>\n",
       "      <td>1.0</td>\n",
       "      <td>1.0</td>\n",
       "      <td>2.0</td>\n",
       "      <td>2.0</td>\n",
       "      <td>1.0</td>\n",
       "      <td>2.0</td>\n",
       "      <td>2.0</td>\n",
       "      <td>2.0</td>\n",
       "      <td>74.4</td>\n",
       "      <td>2.0</td>\n",
       "      <td>1</td>\n",
       "      <td>0</td>\n",
       "      <td>1</td>\n",
       "      <td>2</td>\n",
       "    </tr>\n",
       "    <tr>\n",
       "      <th>84</th>\n",
       "      <td>62.0</td>\n",
       "      <td>2.0</td>\n",
       "      <td>2.0</td>\n",
       "      <td>2.0</td>\n",
       "      <td>1.0</td>\n",
       "      <td>1.0</td>\n",
       "      <td>2.0</td>\n",
       "      <td>2.0</td>\n",
       "      <td>1.0</td>\n",
       "      <td>2.0</td>\n",
       "      <td>1.0</td>\n",
       "      <td>2.0</td>\n",
       "      <td>2.0</td>\n",
       "      <td>58.0</td>\n",
       "      <td>1.0</td>\n",
       "      <td>1</td>\n",
       "      <td>1</td>\n",
       "      <td>1</td>\n",
       "      <td>0</td>\n",
       "    </tr>\n",
       "    <tr>\n",
       "      <th>141</th>\n",
       "      <td>54.0</td>\n",
       "      <td>1.0</td>\n",
       "      <td>1.0</td>\n",
       "      <td>2.0</td>\n",
       "      <td>1.0</td>\n",
       "      <td>1.0</td>\n",
       "      <td>2.0</td>\n",
       "      <td>2.0</td>\n",
       "      <td>2.0</td>\n",
       "      <td>1.0</td>\n",
       "      <td>2.0</td>\n",
       "      <td>1.0</td>\n",
       "      <td>2.0</td>\n",
       "      <td>43.0</td>\n",
       "      <td>2.0</td>\n",
       "      <td>1</td>\n",
       "      <td>0</td>\n",
       "      <td>0</td>\n",
       "      <td>2</td>\n",
       "    </tr>\n",
       "  </tbody>\n",
       "</table>\n",
       "</div>"
      ],
      "text/plain": [
       "      age  sex  steroid  antivirals  fatigue  malaise  anorexia  liver big  \\\n",
       "74   50.0  1.0      2.0         2.0      2.0      2.0       2.0        2.0   \n",
       "142  51.0  1.0      2.0         2.0      1.0      2.0       2.0        2.0   \n",
       "131  31.0  1.0      1.0         2.0      1.0      1.0       1.0        2.0   \n",
       "84   62.0  2.0      2.0         2.0      1.0      1.0       2.0        2.0   \n",
       "141  54.0  1.0      1.0         2.0      1.0      1.0       2.0        2.0   \n",
       "\n",
       "     liver firm  spleen palpable  spiders  ascites  varices  protime  \\\n",
       "74          2.0              2.0      2.0      2.0      2.0     55.2   \n",
       "142         1.0              1.0      1.0      2.0      1.0     63.0   \n",
       "131         2.0              1.0      2.0      2.0      2.0     74.4   \n",
       "84          1.0              2.0      1.0      2.0      2.0     58.0   \n",
       "141         2.0              1.0      2.0      1.0      2.0     43.0   \n",
       "\n",
       "     histology bilirubin_normal alk phosphate_normal sgot_normal  \\\n",
       "74         1.0                1                    0           1   \n",
       "142        2.0                0                    0           0   \n",
       "131        2.0                1                    0           1   \n",
       "84         1.0                1                    1           1   \n",
       "141        2.0                1                    0           0   \n",
       "\n",
       "    albumin_normal  \n",
       "74               0  \n",
       "142              2  \n",
       "131              2  \n",
       "84               0  \n",
       "141              2  "
      ]
     },
     "execution_count": 63,
     "metadata": {},
     "output_type": "execute_result"
    }
   ],
   "source": [
    "X_train_new.head()"
   ]
  },
  {
   "cell_type": "code",
   "execution_count": 64,
   "metadata": {
    "ExecuteTime": {
     "end_time": "2019-11-02T05:31:44.594452Z",
     "start_time": "2019-11-02T05:31:26.684971Z"
    },
    "scrolled": false
   },
   "outputs": [
    {
     "name": "stderr",
     "output_type": "stream",
     "text": [
      "C:\\Users\\OMKARA\\Anaconda3\\lib\\site-packages\\sklearn\\model_selection\\_search.py:813: DeprecationWarning: The default of the `iid` parameter will change from True to False in version 0.22 and will be removed in 0.24. This will change numeric results when test-set sizes are unequal.\n",
      "  DeprecationWarning)\n"
     ]
    },
    {
     "name": "stdout",
     "output_type": "stream",
     "text": [
      "===================================================================\n",
      "\t\t\t RandomForestClassifier \n",
      "===================================================================\n",
      "\n",
      "{'max_depth': 12, 'min_samples_leaf': 5, 'n_estimators': 50} \n",
      "\n",
      "\n",
      "\n",
      "            =========================================\n",
      "               CLASSIFICATION REPORT FOR TRAIN DATA\n",
      "            =========================================\n",
      "              precision    recall  f1-score   support\n",
      "\n",
      "           1       0.96      0.71      0.81        31\n",
      "           2       0.91      0.99      0.95        93\n",
      "\n",
      "    accuracy                           0.92       124\n",
      "   macro avg       0.93      0.85      0.88       124\n",
      "weighted avg       0.92      0.92      0.92       124\n",
      "\n",
      "\n",
      "            =========================================\n",
      "               CLASSIFICATION REPORT FOR TEST DATA\n",
      "            =========================================\n",
      "              precision    recall  f1-score   support\n",
      "\n",
      "           1       0.17      1.00      0.29         1\n",
      "           2       1.00      0.83      0.91        30\n",
      "\n",
      "    accuracy                           0.84        31\n",
      "   macro avg       0.58      0.92      0.60        31\n",
      "weighted avg       0.97      0.84      0.89        31\n",
      "\n",
      "===================================================================\n",
      "\t\t\t RandomForestClassifier \n",
      "===================================================================\n",
      "\n",
      "{'class_weight': 'balanced', 'max_depth': 16, 'min_samples_leaf': 5, 'n_estimators': 50} \n",
      "\n",
      "\n",
      "\n",
      "            =========================================\n",
      "               CLASSIFICATION REPORT FOR TRAIN DATA\n",
      "            =========================================\n",
      "              precision    recall  f1-score   support\n",
      "\n",
      "           1       0.75      0.87      0.81        31\n",
      "           2       0.95      0.90      0.93        93\n",
      "\n",
      "    accuracy                           0.90       124\n",
      "   macro avg       0.85      0.89      0.87       124\n",
      "weighted avg       0.90      0.90      0.90       124\n",
      "\n",
      "\n",
      "            =========================================\n",
      "               CLASSIFICATION REPORT FOR TEST DATA\n",
      "            =========================================\n",
      "              precision    recall  f1-score   support\n",
      "\n",
      "           1       0.09      1.00      0.17         1\n",
      "           2       1.00      0.67      0.80        30\n",
      "\n",
      "    accuracy                           0.68        31\n",
      "   macro avg       0.55      0.83      0.48        31\n",
      "weighted avg       0.97      0.68      0.78        31\n",
      "\n"
     ]
    },
    {
     "name": "stderr",
     "output_type": "stream",
     "text": [
      "C:\\Users\\OMKARA\\Anaconda3\\lib\\site-packages\\sklearn\\model_selection\\_search.py:813: DeprecationWarning: The default of the `iid` parameter will change from True to False in version 0.22 and will be removed in 0.24. This will change numeric results when test-set sizes are unequal.\n",
      "  DeprecationWarning)\n"
     ]
    }
   ],
   "source": [
    "estimators = [(RandomForestClassifier(), {'n_estimators' : [50, 75], 'max_depth' : [12, 14, 16, 18], \n",
    "                                          'min_samples_leaf' : [5, 10]}), \n",
    "              (RandomForestClassifier(), {'n_estimators' : [50, 75], 'max_depth' : [12, 14, 16, 18], \n",
    "                                          'min_samples_leaf' : [5, 10], 'class_weight' : ['balanced']})]\n",
    "\n",
    "for estimator, parameters in estimators :\n",
    "    \n",
    "    model_cv, model, pred_train, pred_test = model_building(X_train_new, y_train, X_test_new, \n",
    "                                                            estimator, parameters, 10)\n",
    "    \n",
    "    print('===================================================================\\n\\t\\t\\t',\n",
    "          type(estimator).__name__,\n",
    "          '\\n===================================================================\\n')\n",
    "    \n",
    "    print(model_cv.best_params_, '\\n\\n')\n",
    "    \n",
    "    model_evaluation(y_train, pred_train, y_test, pred_test)\n",
    "    "
   ]
  },
  {
   "cell_type": "markdown",
   "metadata": {},
   "source": [
    "___"
   ]
  },
  {
   "cell_type": "code",
   "execution_count": null,
   "metadata": {},
   "outputs": [],
   "source": []
  },
  {
   "cell_type": "code",
   "execution_count": null,
   "metadata": {},
   "outputs": [],
   "source": []
  },
  {
   "cell_type": "code",
   "execution_count": null,
   "metadata": {},
   "outputs": [],
   "source": []
  }
 ],
 "metadata": {
  "kernelspec": {
   "display_name": "Python 3",
   "language": "python",
   "name": "python3"
  },
  "language_info": {
   "codemirror_mode": {
    "name": "ipython",
    "version": 3
   },
   "file_extension": ".py",
   "mimetype": "text/x-python",
   "name": "python",
   "nbconvert_exporter": "python",
   "pygments_lexer": "ipython3",
   "version": "3.7.3"
  }
 },
 "nbformat": 4,
 "nbformat_minor": 2
}
